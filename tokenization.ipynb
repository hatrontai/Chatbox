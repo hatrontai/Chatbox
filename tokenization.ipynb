{
  "nbformat": 4,
  "nbformat_minor": 0,
  "metadata": {
    "colab": {
      "provenance": [],
      "authorship_tag": "ABX9TyNFJX6qWapg/16QYLDBYfff",
      "include_colab_link": true
    },
    "kernelspec": {
      "name": "python3",
      "display_name": "Python 3"
    },
    "language_info": {
      "name": "python"
    }
  },
  "cells": [
    {
      "cell_type": "markdown",
      "metadata": {
        "id": "view-in-github",
        "colab_type": "text"
      },
      "source": [
        "<a href=\"https://colab.research.google.com/github/hatrontai/Chatbox/blob/main/tokenization.ipynb\" target=\"_parent\"><img src=\"https://colab.research.google.com/assets/colab-badge.svg\" alt=\"Open In Colab\"/></a>"
      ]
    },
    {
      "cell_type": "code",
      "execution_count": 19,
      "metadata": {
        "colab": {
          "base_uri": "https://localhost:8080/"
        },
        "id": "tABPWJW-t74-",
        "outputId": "9c2ea472-4719-4b25-d0df-52b0282316cb"
      },
      "outputs": [
        {
          "output_type": "stream",
          "name": "stdout",
          "text": [
            "Requirement already satisfied: nltk in /usr/local/lib/python3.12/dist-packages (3.9.1)\n",
            "Requirement already satisfied: click in /usr/local/lib/python3.12/dist-packages (from nltk) (8.3.0)\n",
            "Requirement already satisfied: joblib in /usr/local/lib/python3.12/dist-packages (from nltk) (1.5.2)\n",
            "Requirement already satisfied: regex>=2021.8.3 in /usr/local/lib/python3.12/dist-packages (from nltk) (2024.11.6)\n",
            "Requirement already satisfied: tqdm in /usr/local/lib/python3.12/dist-packages (from nltk) (4.67.1)\n"
          ]
        }
      ],
      "source": [
        "!pip install nltk"
      ]
    },
    {
      "cell_type": "code",
      "source": [
        "import nltk\n",
        "nltk.download('punkt_tab')"
      ],
      "metadata": {
        "colab": {
          "base_uri": "https://localhost:8080/"
        },
        "id": "34N4HpxrzCbW",
        "outputId": "33912e13-42b8-45e0-8038-d695272b1c9e"
      },
      "execution_count": 20,
      "outputs": [
        {
          "output_type": "stream",
          "name": "stderr",
          "text": [
            "[nltk_data] Downloading package punkt_tab to /root/nltk_data...\n",
            "[nltk_data]   Package punkt_tab is already up-to-date!\n"
          ]
        },
        {
          "output_type": "execute_result",
          "data": {
            "text/plain": [
              "True"
            ]
          },
          "metadata": {},
          "execution_count": 20
        }
      ]
    },
    {
      "cell_type": "code",
      "source": [
        "!git clone https://github.com/hatrontai/Chatbox.git"
      ],
      "metadata": {
        "colab": {
          "base_uri": "https://localhost:8080/"
        },
        "id": "DRTXg420Bbod",
        "outputId": "8f2f032b-eced-4a64-889b-45da655c649e"
      },
      "execution_count": 21,
      "outputs": [
        {
          "output_type": "stream",
          "name": "stdout",
          "text": [
            "Cloning into 'Chatbox'...\n",
            "remote: Enumerating objects: 33, done.\u001b[K\n",
            "remote: Counting objects:   3% (1/33)\u001b[K\rremote: Counting objects:   6% (2/33)\u001b[K\rremote: Counting objects:   9% (3/33)\u001b[K\rremote: Counting objects:  12% (4/33)\u001b[K\rremote: Counting objects:  15% (5/33)\u001b[K\rremote: Counting objects:  18% (6/33)\u001b[K\rremote: Counting objects:  21% (7/33)\u001b[K\rremote: Counting objects:  24% (8/33)\u001b[K\rremote: Counting objects:  27% (9/33)\u001b[K\rremote: Counting objects:  30% (10/33)\u001b[K\rremote: Counting objects:  33% (11/33)\u001b[K\rremote: Counting objects:  36% (12/33)\u001b[K\rremote: Counting objects:  39% (13/33)\u001b[K\rremote: Counting objects:  42% (14/33)\u001b[K\rremote: Counting objects:  45% (15/33)\u001b[K\rremote: Counting objects:  48% (16/33)\u001b[K\rremote: Counting objects:  51% (17/33)\u001b[K\rremote: Counting objects:  54% (18/33)\u001b[K\rremote: Counting objects:  57% (19/33)\u001b[K\rremote: Counting objects:  60% (20/33)\u001b[K\rremote: Counting objects:  63% (21/33)\u001b[K\rremote: Counting objects:  66% (22/33)\u001b[K\rremote: Counting objects:  69% (23/33)\u001b[K\rremote: Counting objects:  72% (24/33)\u001b[K\rremote: Counting objects:  75% (25/33)\u001b[K\rremote: Counting objects:  78% (26/33)\u001b[K\rremote: Counting objects:  81% (27/33)\u001b[K\rremote: Counting objects:  84% (28/33)\u001b[K\rremote: Counting objects:  87% (29/33)\u001b[K\rremote: Counting objects:  90% (30/33)\u001b[K\rremote: Counting objects:  93% (31/33)\u001b[K\rremote: Counting objects:  96% (32/33)\u001b[K\rremote: Counting objects: 100% (33/33)\u001b[K\rremote: Counting objects: 100% (33/33), done.\u001b[K\n",
            "remote: Compressing objects: 100% (21/21), done.\u001b[K\n",
            "remote: Total 33 (delta 10), reused 10 (delta 3), pack-reused 0 (from 0)\u001b[K\n",
            "Receiving objects: 100% (33/33), 296.30 KiB | 3.90 MiB/s, done.\n",
            "Resolving deltas: 100% (10/10), done.\n"
          ]
        }
      ]
    },
    {
      "cell_type": "markdown",
      "source": [
        "## Read data file"
      ],
      "metadata": {
        "id": "fmka50DECTSj"
      }
    },
    {
      "cell_type": "code",
      "source": [
        "with open('./Chatbox/rawdata/data.txt', 'r') as file:\n",
        "  data = file.read()"
      ],
      "metadata": {
        "id": "KFXHxBALBnaX"
      },
      "execution_count": 22,
      "outputs": []
    },
    {
      "cell_type": "code",
      "source": [
        "words = data.split()\n",
        "# print(words)"
      ],
      "metadata": {
        "id": "1b-JMT1nCGKE"
      },
      "execution_count": 23,
      "outputs": []
    },
    {
      "cell_type": "code",
      "source": [
        "# word tokenization\n",
        "# * nltk will define the '\\n' is a space and ignore it\n",
        "\n",
        "words = nltk.word_tokenize(data)\n",
        "# print(words)"
      ],
      "metadata": {
        "id": "8Yh37vJgCdi4"
      },
      "execution_count": 24,
      "outputs": []
    },
    {
      "cell_type": "code",
      "source": [
        "def split(data):\n",
        "  lines = data.split('\\n')\n",
        "  tokens = []\n",
        "  for line in lines:\n",
        "    words = nltk.word_tokenize(line)\n",
        "    tokens.extend(words)\n",
        "    tokens.append('\\n')\n",
        "\n",
        "  tokens = tokens[:-1]\n",
        "\n",
        "  return tokens\n",
        "\n",
        "words = split(data)\n",
        "# print(words)"
      ],
      "metadata": {
        "id": "yxXH46EjDKnF"
      },
      "execution_count": 25,
      "outputs": []
    },
    {
      "cell_type": "markdown",
      "source": [
        "## Create vocab"
      ],
      "metadata": {
        "id": "4KT_sB6BFp9b"
      }
    },
    {
      "cell_type": "code",
      "source": [
        "vocab = list(sorted(list(set(words))))\n",
        "print(vocab)"
      ],
      "metadata": {
        "colab": {
          "base_uri": "https://localhost:8080/"
        },
        "id": "4wtI4KM6FUL9",
        "outputId": "2fdc07a1-2027-4684-a41f-1c3eed097716"
      },
      "execution_count": 26,
      "outputs": [
        {
          "output_type": "stream",
          "name": "stdout",
          "text": [
            "['\\n', '!', '$', '&', \"'\", \"''\", \"'d\", \"'ll\", \"'m\", \"'re\", \"'s\", \"'ve\", ',', '.', '...', '01/12/87', '1', '1,000', '10', '100', '101-98', '101-98.', '10:15', '10:15.', '11', '12', '120', '12:15', '12:15.', '13-inch', '140', '140,000', '15', '15,000', '150', '18', '1987', '2', '2,000', '20', '20-foot', '200', '2003', '2003.', '22', '22.', '24', '25-footer', '2:00', '3', '3-story', '30', '30,000', '300', '4,000', '40', '40,000', '400', '42', '42-cent', '44', '45', '456', '4:00', '5', '50', '50-percent', '6', '60', '65', '65.', '6:00', '6:00.', '7', '75', '75.', '8', '8.', '80', '85', '85.', '8:00', '8:15', '9', '90', '911', '911.', '91170', '91170.', '98', '99', '9:15', '9:15.', ';', '?', '@', '``', 'a', 'a.m', 'a.m.', 'able', 'about', 'absolutely', 'accident', 'accidents', 'aches', 'across', 'act', 'action', 'activities', 'actor', 'actors', 'actress', 'actually', 'add', 'added', 'adding', 'address', 'ads', 'adventure', 'afford', 'afraid', 'after', 'afternoon', 'afterwards', 'again', 'against', 'age', 'agent', 'ago', 'agree', 'ahead', 'ahora', 'air', 'airport', 'aisle', 'alarm', 'alice', 'alive', 'all', 'allergic', 'alley', 'allow', 'allowed', 'almost', 'alone', 'along', 'already', 'also', 'altitude', 'always', 'am', 'amateur', 'amazing', 'america', 'american', 'an', 'and', 'andrew', 'andy', 'angeles', 'angry', 'animal', 'animals', 'anita', 'anniversary', 'another', 'answer', 'answered', 'antenna', 'any', 'anymore', 'anyone', 'anything', 'anytime', 'anyway', 'anywhere', 'apartment', 'apologize', 'apologized', 'apples', 'apply', 'appointment', 'appreciate', 'april', 'are', 'areÂ—at', 'arguing', 'argument', 'arizona', 'arm', 'arms', 'army', 'around', 'arrow', 'art', 'article', 'artist', 'artists', 'as', 'ashes', 'ask', 'asked', 'asking', 'asleep', 'assignments', 'at', 'ate', 'atlantic', 'atm', 'attend', 'attended', 'attending', 'attitude', 'automatic', 'available', 'average', 'avoid', 'awake', 'away', 'awesome', 'b', 'babe', 'babies', 'baby', 'babysitter', 'back', 'backpack', 'bacon', 'bad', 'badly', 'bag', 'bags', 'bait', 'ball', 'balloon', 'ballot', 'banana', 'bananas', 'band', 'band-aid', 'band-aids', 'bank', 'bar', 'barbara', 'bark', 'barking', 'bars', 'baseball', 'based', 'bases', 'basically', 'basket', 'basketball', 'bath', 'bathroom', 'bathrooms', 'battery', 'be', 'beach', 'bear', 'beard', 'bears', 'beatles', 'beautiful', 'because', 'become', 'bed', 'bedbugs', 'bedrooms', 'beds', 'been', 'beer', 'before', 'begin', 'behind', 'being', 'believe', 'believes', 'belong', 'belongings', 'belt', 'berries', 'besides', 'best', 'bet', 'better', 'between', 'beÂ…', 'big', 'bigger', 'bill', 'bills', 'bin', 'birds', 'birth', 'birthday', 'bismol', 'bit', 'bite', 'bites', 'bitter', 'black', 'blacky', 'blade', 'blades', 'blame', 'bleeding', 'bless', 'blind', 'blinking', 'blood', 'blow', 'blows', 'blue', 'bluedog123', 'boil', 'boiled', 'bomb', 'bone', 'boobs', 'book', 'books', 'bored', 'boring', 'born', 'borrow', 'boss', 'both', 'bother', 'bothering', 'bottom', 'bought', 'bowling', 'boy', 'boyfriend', 'brand', 'bread', 'break', 'breakfast', 'breaks', 'breath', 'breathe', 'bright', 'bring', 'brings', 'broadcasting', 'broke', 'broken', 'brother', 'brought', 'brown', 'brush', 'brushed', 'brushing', 'bubbles', 'bucket', 'buckle', 'building', 'bulb', 'bull', 'bumped', 'bumps', 'burger', 'buried', 'burned', 'burner', 'burnt', 'burst', 'bus', 'buses', 'bush', 'business', 'busy', 'but', 'butter', 'butterflies', 'button', 'buy', 'buyer', 'buying', 'buys', 'by', 'bye', 'ca', 'cabin', 'cabinet', 'cable', 'cadillac', 'calculator', 'calculators', 'california', 'call', 'called', 'calling', 'calls', 'calories', 'came', 'camera', 'campus', 'can', 'canada', 'canceled', 'cancer', 'candidate', 'candy', 'cans', 'canyon', 'cap', 'car', 'card', 'cards', 'care', 'careful', 'cares', 'carpet', 'carrier', 'carries', 'carrot', 'carry', 'carrying', 'cars', 'cart', 'carton', 'cartoons', 'carts', 'case', 'cash', 'cat', 'cat-eyes', 'catch', 'catches', 'cats', 'caught', 'cause', 'caused', 'causes', 'causing', 'cd', 'cds', 'celery', 'cell', 'cemetery', 'cents', 'cereal', 'certain', 'certainly', 'chain', 'chairs', 'chance', 'chances', 'change', 'changed', 'changes', 'changing', 'channel', 'channels', 'charge', 'charged', 'charges', 'charity', 'chase', 'chased', 'cheap', 'cheaper', 'cheat', 'cheater', 'cheating', 'check', 'checkbook', 'checked', 'checkout', 'cheer', 'cheese', 'chemistry', 'cherry', 'children', 'chilly', 'china', 'chinese', 'chips', 'chocolate', 'choose', 'chop', 'chore', 'chores', 'christmas', 'chuck', 'chucks', 'church', 'cigarette', 'cigarettes', 'cities', 'city', 'class', 'classes', 'classmates', 'classroom', 'clean', 'clean-up', 'cleaner', 'cleaning', 'clear', 'clearly', 'clears', 'clerk', 'climb', 'climbing', 'clock', 'close', 'closed', 'closer', 'cloth', 'clothes', 'club', 'coat', 'code', 'coffee', 'coffin', 'cold', 'colder', 'college', 'collision', 'color', 'come', 'comes', 'comfortable', 'coming', 'commercials', 'common', 'company', 'complain', 'complained', 'complainers', 'complaining', 'completely', 'computer', 'computers', 'concrete', 'conditioner', 'cone', 'cones', 'conference', 'congratulations', 'considering', 'constantly', 'continued', 'controls', 'conversing', 'converter', 'cook', 'cooking', 'cooks', 'cool', 'cop', 'cops', 'corner', 'corporations', 'correct', 'cost', 'costs', 'coughing', 'could', 'council', 'counter', 'country', 'couple', 'course', 'court', 'cousin', 'cover', 'covered', 'cow', 'coworkers', 'cows', 'crack', 'cracks', 'crash', 'crashed', 'crashes', 'crazy', 'cream', 'credit', 'cremated', 'crime', 'criminals', 'cross', 'crossing', 'crosswalk', 'crowded', 'crowds', 'crud', 'cruise', 'cry', 'crying', 'cuffs', 'cups', 'current', 'curse', 'customer', 'customs', 'cut', 'cute', 'cuts', 'd', 'd.c.', 'dad', 'daddy', 'damage', 'damp', 'dangerous', 'dark', 'date', 'dating', 'daughter', 'day', 'days', 'dead', 'deaf', 'deal', 'deals', 'death', 'debit', 'debrah', 'decided', 'deep', 'definitely', 'degree', 'degrees', 'deli', 'delicious', 'democratic', 'democrats', 'dent', 'dentist', 'department', 'depends', 'describe', 'deserve', 'deserved', 'desk', 'desktop', 'destroyed', 'dial', 'diapers', 'dictionaries', 'dictionary', 'did', 'die', 'died', 'dies', 'diet', 'difference', 'different', 'differently', 'digital', 'dining', 'dinner', 'dirty', 'disappear', 'discount', 'disgusting', 'distance', 'dive', 'dives', 'divorced', 'do', 'doctor', 'doctors', 'doctorsÂ—no', 'dodgers', 'does', 'dog', 'dogs', 'doing', 'dollar', 'dollars', 'dome', 'donate', 'donations', 'done', 'door', 'doorbell', 'doors', 'double-check', 'doubt', 'down', 'downtown', 'dozen', 'drag', 'draw', 'drawer', 'drawing', 'dream', 'dressing', 'drew', 'dried', 'dries', 'drink', 'drinking', 'drinks', 'dripping', 'drive', 'driver', 'drivers', 'drives', 'driving', 'drop', 'drops', 'drove', 'drown', 'drowned', 'drug', 'drugs', 'drunks', 'dry', 'dryer', 'during', 'duties', 'dvd', 'dying', 'e-mail', 'each', 'ear', 'earlier', 'early', 'earplugs', 'ears', 'earth', 'earthquakes', 'easier', 'easter', 'easy', 'eat', 'eating', 'eats', 'ebay', 'eggs', 'eight', 'either', 'elastic', 'elbow', 'elected', 'election', 'electric', 'elephant', 'elevator', 'eleven', 'else', 'email', 'emergency', 'empty', 'end', 'ended', 'ending', 'ends', 'english', 'enjoy', 'enjoyed', 'enjoying', 'enough', 'entered', 'entire', 'envelope', 'especially', 'even', 'evening', 'events', 'ever', 'every', 'everybody', 'everyone', 'everything', 'everywhere', 'exactly', 'examine', 'example', 'excellent', 'except', 'excited', 'exciting', 'excuse', 'exercise', 'exit', 'expensive', 'explain', 'explode', 'extra', 'eye', 'eyes', 'f', 'f.', 'face', 'facial', 'fact', 'fair', 'fall', 'fallen', 'falling', 'family', 'famous', 'fans', 'far', 'fast', 'fast-food', 'faster', 'fastest', 'fat', 'father', 'faucet', 'fault', 'favor', 'favorite', 'features', 'feed', 'feel', 'feeling', 'feelings', 'feet', 'fell', 'felt', 'female', 'few', 'fifteen', 'fight', 'fighter', 'fighting', 'figure', 'figured', 'figures', 'files', 'fill', 'filled', 'film', 'filthy', 'final', 'finally', 'find', 'finding', 'fine', 'finger', 'fingernails', 'fingers', 'finish', 'finished', 'fire', 'firebug', 'fireman', 'fireplaces', 'fires', 'firmly', 'first', 'first-class', 'fish', 'fishing', 'fit', 'five', 'fix', 'flag', 'flags', 'flat', 'flew', 'flight', 'flip', 'flipping', 'float', 'floor', 'floors', 'florida', 'floss', 'flossing', 'flower', 'flown', 'flu', 'fly', 'flying', 'focus', 'folded', 'follow', 'followed', 'follows', 'food', 'for', 'force', 'forecast', 'forever', 'forget', 'forgetting', 'forgive', 'forgot', 'form', 'former', 'fortune', 'forty', 'foul', 'found', 'four', 'fourth', 'free', 'freeways', 'freezer', 'french', 'frequently', 'fresh', 'friday', 'fridge', 'friend', 'friendly', 'friends', 'from', 'front', 'fruit', 'fruits', 'full', 'fun', 'funeral', 'funniest', 'funny', 'funny-looking', 'furthest', 'gained', 'gaining', 'gambling', 'game', 'games', 'gardening', 'gas', 'gave', 'genes', 'genres', 'gently', 'germs', 'get', 'gets', 'getting', 'girl', 'girlfriend', 'girls', 'give', 'given', 'gives', 'giving', 'glad', 'glass', 'glasses', 'glove', 'gloves', 'glue', 'go', 'goats', 'god', 'goes', 'going', 'golf', 'golfer', 'golfers', 'gone', 'good', 'good-looking', 'good-smelling', 'goodbye', 'goodness', 'google', 'got', 'gotten', 'government', 'grade', 'graduate', 'grand', 'grandma', 'grass', 'gravity', 'gray', 'great', 'greatest', 'green', 'ground', 'group', 'grow', 'guarantees', 'guess', 'guessing', 'gun', 'guns', 'guy', 'guys', 'ha', 'had', 'hair', 'half', 'ham', 'hamburger', 'hamburgers', 'hand', 'handle', 'hands', 'handyman', 'hang', 'happen', 'happened', 'happening', 'happens', 'happiness', 'happy', 'happyness', 'hard', 'harmless', 'harsh', 'has', 'hassle', 'hate', 'hates', 'have', 'having', 'hawaii', 'he', 'head', 'heal', 'heals', 'healthy', 'hear', 'heard', 'hearing', 'heart', 'heat', 'heated', 'heaven', 'height', 'hell', 'hello', 'help', 'helped', 'helps', 'her', 'here', 'herself', 'hey', 'hi', 'hidden', 'high', 'highway', 'highways', 'hike', 'hiking', 'hilarious', 'him', 'himself', 'hire', 'his', 'hit', 'hitter', 'hitting', 'hmm', 'hobbies', 'hobby', 'hold', 'holding', 'hole', 'holes', 'holidays', 'home', 'homeless', 'homes', 'homework', 'honda', 'honest', 'honestly', 'honey', 'honk', 'honor', 'hood', 'hope', 'hopefully', 'hoping', 'horn', 'horrible', 'hospital', 'hospitals', 'hot', 'hotel', 'hotter', 'hour', 'hours', 'house', 'housekeeping', 'houses', 'how', 'hp', 'hug', 'huge', 'huh', 'human', 'hunch', 'hundred', 'hungry', 'hurricane', 'hurricanes', 'hurry', 'hurt', 'hurts', 'husband', 'hysterically', 'i', 'i.', 'ice', 'idea', 'ideas', 'identify', 'if', 'ii', 'ill', 'ill.', 'imagine', 'immediately', 'important', 'impossible', 'improve', 'in', 'incomplete', 'increase', 'infants', 'initial', 'injured', 'ink', 'insert', 'inside', 'inspection', 'installation', 'instance', 'instantly', 'instead', 'instructions', 'instruments', 'insurance', 'intend', 'intense', 'interested', 'interesting', 'interests', 'internet', 'intersection', 'interview', 'into', 'invading', 'invented', 'invitation', 'invitations', 'invite', 'invited', 'invites', 'inviting', 'ipod', 'iq', 'iron', 'iron-on', 'is', 'island', 'it', 'its', 'jacket', 'jail', 'jammed', 'january', 'jar', 'jaywalking', 'jazz', 'jerk', 'jerks', 'jessica', 'jet', 'jets', 'job', 'jobs', 'jogging', 'joining', 'joke', 'jokes', 'joking', 'judge', 'judy', 'juice', 'june', 'just', 'keep', 'kept', 'keys', 'kid', 'kidding', 'kids', 'kill', 'killed', 'killer', 'killing', 'kind', 'kinds', 'king', 'kitchen', 'kittens', 'knee', 'knew', 'knife', 'knitting', 'knock', 'knocking', 'know', 'known', 'knows', 'knuckles', 'korean', 'labor', 'lady', 'laid', 'lake', 'land', 'landed', 'lane', 'language', 'languages', 'laptop', 'large', 'las', 'last', 'lasts', 'late', 'lately', 'later', 'latest', 'laugh', 'laughed', 'laughing', 'laundry', 'law', 'lawns', 'lawsuits', 'layoffs', 'lead', 'leaders', 'leads', 'league', 'learn', 'learned', 'learning', 'least', 'leather', 'leave', 'leaves', 'left', 'left-turn', 'leftovers', 'legislators', 'legs', 'lemon', 'lend', 'less', 'lesson', 'lessons', 'let', 'letter', 'letting', 'lettuce', 'liar', 'library', 'license', 'lick', 'licks', 'lie', 'lieÂ—that', 'life', 'lifeguard', 'light', 'lighters', 'like', 'liked', 'likes', 'limit', 'line', 'lips', 'list', 'listen', 'listening', 'little', 'live', 'living', 'lizards', 'loads', 'lock', 'lonely', 'long', 'longer', 'look', 'looked', 'looking', 'looks', 'loosen', 'loosened', 'los', 'lose', 'loses', 'losing', 'lost', 'lot', 'lotion', 'lots', 'lotto', 'loud', 'love', 'loved', 'lovely', 'loves', 'low', 'luck', 'lucky', 'lunch', 'lungs', 'luxury', 'lying', 'mac', 'machine', 'macs', 'macy', 'mad', 'made', 'magazine', 'magazines', 'mail', 'mailing', 'main', 'major', 'make', 'makes', 'making', 'male', 'mall', 'man', 'manager', 'many', 'march', 'market', 'markets', 'marks', 'marriage', 'married', 'mars', 'match', 'math', 'matter', 'mattress', 'may', 'maybe', 'mayor', 'mccain', 'mcdonald', 'me', 'meal', 'mean', 'meaning', 'means', 'meant', 'measure', 'measures', 'meat', 'mechanic', 'medication', 'medicine', 'meet', 'melts', 'men', 'mental', 'mention', 'meowing', 'met', 'metal', 'mexico', 'mi', 'middle', 'might', 'mileage', 'miles', 'milk', 'million', 'millions', 'mind', 'mine', 'minute', 'minutes', 'mirror', 'miss', 'missed', 'missing', 'mistake', 'mixed', 'mm/dd/yy', 'modern', 'mom', 'mommy', 'money', 'month', 'month/day/year', 'monthly', 'months', 'monument', 'mood', 'mop', 'more', 'morning', 'most', 'mostly', 'mother', 'mountains', 'mouse', 'mouth', 'move', 'moved', 'moves', 'movie', 'movies', 'much', 'mud', 'mule', 'murder', 'muscles', 'music', 'musical', 'must', 'mustard', 'my', 'myself', \"n't\", 'nader', 'nails', 'name', 'nanny', 'nap', 'napkin', 'nation', 'natural', 'navel', 'near', 'nearby', 'need', 'needs', 'neighborhood', 'neighborhoods', 'neighbors', 'neither', 'nervous', 'never', 'new', 'news', 'newspaper', 'newspapers', 'next', 'nice', 'nicer', 'night', 'nights', 'ninety', 'no', 'nobody', 'noise', 'none', 'nonfat', 'nonsmoking', 'noon', 'nope', 'normal', 'north', 'northern', 'nose', 'noses', 'nosey', 'not', 'notebook', 'nothing', 'noticed', 'now', 'number', 'numbers', 'nuts', \"o'clock\", 'obama', 'occasionally', 'occur', 'ocean', 'octo-mom', 'october', 'odd', 'odors', 'of', 'off', 'offer', 'offered', 'offering', 'office', 'officer', 'officers', 'official', 'officials', 'often', 'oh', 'oil', 'okay', 'old', 'on', 'once', 'one', 'one-pound', 'ones', 'online', 'only', 'onto', 'oops', 'open', 'opposite', 'or', 'orange', 'oranges', 'order', 'ordered', 'organization', 'original', 'other', 'others', 'ounces', 'our', 'out', 'outer', 'outfield', 'outfit', 'outside', 'over', 'overseas', 'own', 'owned', 'p.m', 'p.m.', 'packs', 'pages', 'paid', 'pain', 'paint', 'painted', 'painter', 'painting', 'paintings', 'pair', 'pale', 'pant', 'pants', 'paper', 'parade', 'parents', 'park', 'parked', 'parking', 'part', 'parties', 'parts', 'party', 'pasadena', 'pass', 'passed', 'passenger', 'passes', 'pasta', 'patch', 'patient', 'patients', 'pay', 'paying', 'payment', 'payments', 'pbs', 'pc', 'pcc', 'pcs', 'peanut', 'peanuts', 'peeled', 'pen', 'pencil', 'pencils', 'pennies', 'penny', 'pens', 'people', 'peopleÂ—not', 'pepper', 'pepperoni', 'pepto', 'per', 'percent', 'perfect', 'perfectly', 'perfume', 'permit', 'person', 'personal', 'personality', 'pet', 'pets', 'phone', 'phony', 'photos', 'picasso', 'pick', 'picked', 'picking', 'pickle', 'pickles', 'pictures', 'piece', 'pieces', 'pillowcases', 'pillows', 'pilot', 'pimple', 'pimples', 'pineapples', 'pink', 'pipe', 'pizza', 'place', 'placed', 'plan', 'plane', 'planes', 'planet', 'planned', 'planning', 'plans', 'plants', 'plastic', 'plate', 'play', 'played', 'player', 'players', 'playing', 'pleasant', 'please', 'plenty', 'plus', 'pocket', 'pockets', 'poems', 'poet', 'poetry', 'point', 'pointless', 'points', 'poke', 'poker', 'police', 'polite', 'political', 'politicians', 'pollution', 'poodle', 'poodles', 'poor', 'pop', 'popular', 'positive', 'possible', 'possibly', 'potato', 'potatoes', 'pound', 'pounds', 'pour', 'poured', 'power', 'powerful', 'practice', 'pray', 'prayers', 'predictable', 'prefer', 'prepare', 'prescription', 'president', 'prettiest', 'pretty', 'price', 'prices', 'print', 'prisons', 'private', 'probably', 'problem', 'problems', 'problemsÂ—she', 'processed', 'produce', 'promise', 'promised', 'promises', 'promotion', 'property', 'protect', 'prove', 'public', 'puddle', 'puff', 'pull', 'pulled', 'pulls', 'punched', 'puppies', 'puppy', 'purse', 'purses', 'pursuit', 'pushed', 'put', 'puts', 'putt', 'question', 'questions', 'quicker', 'quickly', 'quiet', 'quietly', 'quit', 'quite', 'r', 'rabbit', 'race', 'racist', 'radio', 'radios', 'rain', 'rained', 'raining', 'rains', 'rainstorm', 'raise', 'raised', 'raising', 'ralph', 'ran', 'random', 'rate', 'rather', 'raw', 'read', 'reading', 'ready', 'real', 'realize', 'really', 'reason', 'receipt', 'recent', 'recently', 'record', 'recorder', 'recycle', 'red', 'reelected', 'reelection', 'regardless', 'registration', 'reheated', 'relax', 'relaxed', 'reliable', 'remember', 'remind', 'reminder', 'remote', 'remove', 'rent', 'repairman', 'repeat', 'replace', 'report', 'reporters', 'reporting', 'republicans', 'rerun', 'reservation', 'reservations', 'respect', 'responsibility', 'rest', 'restaurant', 'restaurants', 'retires', 'return', 'reuse', 'reviews', 'rhyme', 'rice', 'rich', 'rid', 'ride', 'ridiculous', 'riding', 'right', 'right-handed', 'ring', 'rings', 'rinse', 'ripe', 'ripped', 'river', 'road', 'roads', 'roasted', 'rob', 'robber', 'robbery', 'rock', 'rods', 'roll', 'rolled', 'room', 'rooms', 'rose', 'rosters', 'round', 'routine', 'rowed', 'rub', 'rubber', 'rude', 'ruin', 'ruined', 'rules', 'run', 'running', 'rush', 'rusty', 'ruth', 'sad', 'safe', 'safer', 'said', 'salad', 'salads', 'salary', 'sale', 'salt', 'salted', 'same', 'sample', 'sand', 'sandwich', 'sandwiches', 'sank', 'santa', 'sat', 'saturday', 'sauce', 'sausage', 'save', 'saved', 'saves', 'saving', 'savings', 'saw', 'say', 'saying', 'says', 'school', 'schools', 'score', 'scratching', 'screen', 'screws', 'scrub', 'scuba', 'sealed', 'search', 'season', 'seat', 'seatbelt', 'seats', 'second', 'section', 'security', 'see', 'seeing', 'seem', 'seems', 'seen', 'seldom', 'sell', 'seller', 'selling', 'senator', 'send', 'sense', 'sensitive', 'sent', 'serious', 'seriously', 'serve', 'served', 'service', 'set', 'seven', 'sew', 'sewing', 'sexist', 'shake', 'shaken', 'shakespeare', 'share', 'sharp', 'sharpen', 'sharpener', 'sharpeners', 'shave', 'shaver', 'shaving', 'she', 'sheet', 'sheets', 'shelf', 'shells', 'shelter', 'shine', 'shined', 'ship', 'shirt', 'shirts', 'shoe', 'shoes', 'shoesÂ—they', 'shook', 'shoot', 'shooting', 'shop', 'shoppers', 'shopping', 'short', 'shorter', 'shot', 'shots', 'should', 'show', 'showed', 'shower', 'showers', 'shows', 'shut', 'sick', 'side', 'sides', 'sidewalk', 'sidewalks', 'sight', 'sign', 'signal', 'silly', 'silverware', 'simple', 'since', 'sing', 'singer', 'singers', 'single', 'sink', 'siren', 'sister', 'sit', 'site', 'sitting', 'six', 'skills', 'skin', 'sky', 'sleep', 'sleeping', 'sleepy', 'sleeve', 'sleeves', 'sliced', 'slick', 'slide', 'slip', 'slips', 'slow', 'slowed', 'slowest', 'slowing', 'small', 'smart', 'smell', 'smelled', 'smells', 'smile', 'smoke', 'smoker', 'smokers', 'smokes', 'smoking', 'snails', 'sneak', 'sneezing', 'sniff', 'snoring', 'snow', 'snowman', 'so', 'soak', 'soap', 'socks', 'sofa', 'soft', 'soldier', 'soldiers', 'solution', 'solve', 'some', 'somebody', 'someday', 'someone', 'something', 'somethingÂ—you', 'sometime', 'sometimes', 'somewhere', 'son', 'song', 'songs', 'soon', 'sooner', 'sore', 'sorry', 'sort', 'sound', 'sounds', 'soup', 'southern', 'space', 'spanish', 'spare', 'speak', 'speaker', 'speaking', 'speaks', 'special', 'speech', 'speed', 'speeding', 'spend', 'spends', 'spent', 'spit', 'spoke', 'sponge', 'sports', 'spot', 'spring', 'sprinkled', 'squeeze', 'stain', 'stains', 'stamp', 'stamps', 'stand', 'standing', 'stands', 'star', 'starbucks', 'stars', 'start', 'started', 'starts', 'starving', 'state', 'stations', 'stay', 'stayed', 'stays', 'steak', 'steal', 'steam', 'step', 'stepladder', 'steps', 'sticker', 'sticks', 'still', 'stink', 'stinks', 'stock', 'stole', 'stomach', 'stomachache', 'stomachaches', 'stone', 'stood', 'stop', 'stopped', 'stopping', 'stops', 'store', 'stories', 'storms', 'story', 'stove', 'straight', 'strange', 'street', 'streets', 'stress', 'stretch', 'strict', 'stripes', 'stroke', 'strong', 'stronger', 'stuck', 'student', 'students', 'stuff', 'stuffed', 'stunk', 'stupid', 'subject', 'subscribed', 'subscription', 'such', 'suck', 'sucked', 'sucks', 'suction', 'sudden', 'sugar', 'summer', 'sun', 'sunday', 'sunny', 'suntan', 'super', 'super-smart', 'superbad', 'supermarket', 'supervisor', 'supposed', 'sure', 'surgery', 'survive', 'suspended', 'swam', 'swear', 'sweat', 'swelling', 'swimming', 'swine', 'swiss', 'switch', 'switched', 'switching', 'system', 'table', 'tables', 'tag', 'take', 'taken', 'takes', 'taking', 'talent', 'talented', 'talk', 'talking', 'tall', 'tan', 'tape', 'taste', 'tasted', 'tastes', 'tasty', 'taught', 'tax', 'taxes', 'taxi', 'taylors', 'teach', 'teacher', 'teachers', 'teaching', 'team', 'tears', 'teeth', 'telephones', 'tell', 'teller', 'telling', 'tells', 'temperature', 'ten', 'tens', 'terrible', 'test', 'tests', 'textbooks', 'than', 'thank', 'thanks', 'that', 'thatÂ—cigarettes', 'thatÂ—their', 'the', 'theater', 'theaters', 'their', 'them', 'themselves', 'then', 'there', 'these', 'they', 'thieves', 'thin', 'thing', 'things', 'thingsÂ—not', 'think', 'thinking', 'thinks', 'third', 'thirteenth', 'thirty', 'this', 'those', 'though', 'thought', 'thousand', 'threat', 'three', 'thrift', 'through', 'throughout', 'throw', 'throwing', 'ticket', 'tickets', 'tie', 'tiger', 'tight', 'till', 'time', 'times', 'tip', 'tired', 'tires', 'tissue', 'tissues', 'titanic', 'title', 'to', 'toast', 'today', 'toes', 'together', 'toilet', 'told', 'tomato', 'tomorrow', 'tonight', 'too', 'took', 'top', 'toss', 'totally', 'tough', 'tournament', 'towed', 'towel', 'towels', 'town', 'trade', 'traffic', 'trail', 'trash', 'travel', 'traveling', 'tree', 'trees', 'tried', 'trip', 'trouble', 'troublemakers', 'truck', 'trucks', 'true', 'trust', 'truth', 'try', 'trying', 'tub', 'tuesday', 'turn', 'turned', 'turning', 'tutor', 'tv', 'tvs', 'twelve', 'twenty-five', 'twice', 'two', 'type', 'types', 'typing', 'u-turn', 'u.s', 'u.s.', 'ugly', 'uh-oh', 'umbrella', 'unable', 'unbelievable', 'unbuttoned', 'uncertain', 'uncomfortable', 'under', 'understand', 'understands', 'unfriendly', 'unhappy', 'unit', 'units', 'unless', 'unlucky', 'unplug', 'unpredictable', 'unsafe', 'until', 'up', 'upset', 'upstairs', 'us', 'usc', 'use', 'used', 'uses', 'using', 'usual', 'usually', 'vacation', 'vacuum', 'vacuumed', 'values', 'variety', 'various', 'vegas', 'vegetables', 'very', 'veterans', 'victim', 'victorious', 'view', 'violence', 'visit', 'visited', 'visiting', 'visitors', 'vitamins', 'volume', 'vote', 'voted', 'voter', 'voters', 'votes', 'voting', 'waist', 'waistband', 'wait', 'waiter', 'waiting', 'wake', 'walk', 'walked', 'wall', 'wallet', 'walls', 'want', 'wanted', 'wants', 'war', 'warhol', 'warm', 'warmer', 'warned', 'was', 'wash', 'washed', 'washes', 'washings', 'washington', 'waste', 'wasting', 'watch', 'watchdogs', 'watched', 'watching', 'water', 'watered', 'way', 'we', 'weak', 'wear', 'wearing', 'weather', 'weatherman', 'week', 'weekend', 'weekends', 'weighs', 'weight', 'weird', 'welcome', 'well', 'went', 'were', 'wet', 'what', 'whatever', 'wheelchairs', 'when', 'whenever', 'where', 'whether', 'which', 'while', 'white', 'who', 'whole', 'why', 'wife', 'wild', 'will', 'win', 'wind', 'window', 'windows', 'windy', 'winning', 'wins', 'winter', 'wipe', 'wiped', 'wipes', 'wish', 'with', 'withdraw', 'without', 'witness', 'wo', 'woke', 'woman', 'women', 'won', 'wonder', 'wonderful', 'wood', 'woods', 'word', 'work', 'workers', 'working', 'works', 'world', 'worried', 'worry', 'worse', 'worst', 'worth', 'would', 'wounded', 'wow', 'write', 'writing', 'wrong', 'yahoo.com', 'yankees', 'yard', 'yards', 'yawning', 'yeah', 'year', 'yearly', 'years', 'yell', 'yelled', 'yelling', 'yellow', 'yells', 'yes', 'yesterday', 'yet', 'yikes', 'york', 'you', 'young', 'your', 'yours', 'yourself', 'yuck', 'zip', 'zoo', 'zzz', 'Â…and', 'Â…there']\n"
          ]
        }
      ]
    },
    {
      "cell_type": "code",
      "source": [
        "token_to_index = {\n",
        "    token: index for index, token in enumerate(vocab)\n",
        "}\n",
        "# print(token_to_index)"
      ],
      "metadata": {
        "id": "r_nElW_NF8Jb"
      },
      "execution_count": 27,
      "outputs": []
    },
    {
      "cell_type": "markdown",
      "source": [
        "## Create encode"
      ],
      "metadata": {
        "id": "OJZVnzNTIBDR"
      }
    },
    {
      "cell_type": "code",
      "source": [
        "def encode(text):\n",
        "  tokens = split(text)\n",
        "  indices = [token_to_index[token] for token in tokens]\n",
        "\n",
        "  return indices"
      ],
      "metadata": {
        "id": "u1lezC90GSa-"
      },
      "execution_count": 28,
      "outputs": []
    },
    {
      "cell_type": "code",
      "source": [
        "print(encode('hi, how are you?'))"
      ],
      "metadata": {
        "colab": {
          "base_uri": "https://localhost:8080/"
        },
        "id": "mJWWtZ69HXa-",
        "outputId": "b87ce50b-9895-43ba-d145-b77b45abffdb"
      },
      "execution_count": 29,
      "outputs": [
        {
          "output_type": "stream",
          "name": "stdout",
          "text": [
            "[1037, 12, 1086, 185, 2500, 94]\n"
          ]
        }
      ]
    },
    {
      "cell_type": "markdown",
      "source": [
        "## Create decode"
      ],
      "metadata": {
        "id": "JmUEgQQVIEis"
      }
    },
    {
      "cell_type": "code",
      "source": [
        "index_to_token = {\n",
        "    index: token for index, token in enumerate(vocab)\n",
        "}\n",
        "\n",
        "# print(index_to_token)"
      ],
      "metadata": {
        "id": "AokVQs1fHZgI"
      },
      "execution_count": 30,
      "outputs": []
    },
    {
      "cell_type": "code",
      "source": [
        "def decode(indices):\n",
        "  tokens = [index_to_token[index] for index in indices]\n",
        "  text = ' '.join(tokens)\n",
        "\n",
        "  return text"
      ],
      "metadata": {
        "id": "v1eLZBw1IVBG"
      },
      "execution_count": 31,
      "outputs": []
    },
    {
      "cell_type": "code",
      "source": [
        "print(decode([1037, 12, 1086, 185, 2500, 94, 0]))"
      ],
      "metadata": {
        "colab": {
          "base_uri": "https://localhost:8080/"
        },
        "id": "0EWF-WdeIjnk",
        "outputId": "ed97d8e5-78ad-4c64-817b-01f448dbbde6"
      },
      "execution_count": 32,
      "outputs": [
        {
          "output_type": "stream",
          "name": "stdout",
          "text": [
            "hi , how are you ? \n",
            "\n"
          ]
        }
      ]
    },
    {
      "cell_type": "code",
      "source": [
        "%cd Chatbox"
      ],
      "metadata": {
        "colab": {
          "base_uri": "https://localhost:8080/"
        },
        "id": "HHAMSyo4NrtY",
        "outputId": "8fd6ca54-6b1f-4523-bddc-85cc803c4013"
      },
      "execution_count": 33,
      "outputs": [
        {
          "output_type": "stream",
          "name": "stdout",
          "text": [
            "/content/Chatbox/Chatbox\n"
          ]
        }
      ]
    },
    {
      "cell_type": "code",
      "source": [
        "from utils.tokenizer import tokenizer"
      ],
      "metadata": {
        "id": "2B2hqZhAInVC"
      },
      "execution_count": 34,
      "outputs": []
    },
    {
      "cell_type": "code",
      "source": [
        "with open('./rawdata/data.txt', 'r') as file:\n",
        "  data = file.read()"
      ],
      "metadata": {
        "id": "N1c3cF5gO5Xn"
      },
      "execution_count": 35,
      "outputs": []
    },
    {
      "cell_type": "code",
      "source": [
        "ENCODER = tokenizer(data, vocab=None)\n",
        "\n",
        "sample_text = \"hi , how are you ?\"\n",
        "print(\"size of vocab:\", len(ENCODER.vocab))\n",
        "encoded = ENCODER.encode(sample_text)\n",
        "print(\"Encoded:\", encoded)\n",
        "decoded = ENCODER.decode(encoded)\n",
        "print(\"Decoded:\", decoded)"
      ],
      "metadata": {
        "colab": {
          "base_uri": "https://localhost:8080/"
        },
        "id": "HVkaDqFAN3QL",
        "outputId": "12194f4d-e93f-45bf-c579-76ce0ab2f673"
      },
      "execution_count": 36,
      "outputs": [
        {
          "output_type": "stream",
          "name": "stdout",
          "text": [
            "size of vocab: 55\n",
            "Encoded: [33, 34, 2, 8, 2, 33, 40, 48, 2, 26, 43, 30, 2, 50, 40, 46, 2, 24]\n",
            "Decoded: hi , how are you ?\n"
          ]
        }
      ]
    },
    {
      "cell_type": "code",
      "source": [],
      "metadata": {
        "id": "RncnKKG7Qe5m"
      },
      "execution_count": 36,
      "outputs": []
    }
  ]
}