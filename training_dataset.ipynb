{
  "nbformat": 4,
  "nbformat_minor": 0,
  "metadata": {
    "colab": {
      "provenance": [],
      "authorship_tag": "ABX9TyML4tPqLKbuL2m9G2ljWJK2",
      "include_colab_link": true
    },
    "kernelspec": {
      "name": "python3",
      "display_name": "Python 3"
    },
    "language_info": {
      "name": "python"
    }
  },
  "cells": [
    {
      "cell_type": "markdown",
      "metadata": {
        "id": "view-in-github",
        "colab_type": "text"
      },
      "source": [
        "<a href=\"https://colab.research.google.com/github/hatrontai/Chatbox/blob/main/training_dataset.ipynb\" target=\"_parent\"><img src=\"https://colab.research.google.com/assets/colab-badge.svg\" alt=\"Open In Colab\"/></a>"
      ]
    },
    {
      "cell_type": "code",
      "execution_count": 1,
      "metadata": {
        "colab": {
          "base_uri": "https://localhost:8080/"
        },
        "id": "N7O-ZVZoShHn",
        "outputId": "2fb446b8-578a-4de8-f9fb-8796c367859e"
      },
      "outputs": [
        {
          "output_type": "stream",
          "name": "stdout",
          "text": [
            "Requirement already satisfied: nltk in /usr/local/lib/python3.12/dist-packages (3.9.1)\n",
            "Requirement already satisfied: click in /usr/local/lib/python3.12/dist-packages (from nltk) (8.3.0)\n",
            "Requirement already satisfied: joblib in /usr/local/lib/python3.12/dist-packages (from nltk) (1.5.2)\n",
            "Requirement already satisfied: regex>=2021.8.3 in /usr/local/lib/python3.12/dist-packages (from nltk) (2024.11.6)\n",
            "Requirement already satisfied: tqdm in /usr/local/lib/python3.12/dist-packages (from nltk) (4.67.1)\n"
          ]
        }
      ],
      "source": [
        "!pip install nltk"
      ]
    },
    {
      "cell_type": "code",
      "source": [
        "import nltk\n",
        "nltk.download('punkt_tab')"
      ],
      "metadata": {
        "colab": {
          "base_uri": "https://localhost:8080/"
        },
        "id": "9i16Ca2VSrJu",
        "outputId": "faa79fa3-9653-4901-a7a0-ef7c4381f4c6"
      },
      "execution_count": 2,
      "outputs": [
        {
          "output_type": "stream",
          "name": "stderr",
          "text": [
            "[nltk_data] Downloading package punkt_tab to /root/nltk_data...\n",
            "[nltk_data]   Unzipping tokenizers/punkt_tab.zip.\n"
          ]
        },
        {
          "output_type": "execute_result",
          "data": {
            "text/plain": [
              "True"
            ]
          },
          "metadata": {},
          "execution_count": 2
        }
      ]
    },
    {
      "cell_type": "code",
      "source": [
        "!git clone https://github.com/hatrontai/Chatbox.git"
      ],
      "metadata": {
        "colab": {
          "base_uri": "https://localhost:8080/"
        },
        "id": "UNO2-FlLSuC8",
        "outputId": "f7895cb7-95d3-4cdd-f373-14b12b89871d"
      },
      "execution_count": 3,
      "outputs": [
        {
          "output_type": "stream",
          "name": "stdout",
          "text": [
            "Cloning into 'Chatbox'...\n",
            "remote: Enumerating objects: 44, done.\u001b[K\n",
            "remote: Counting objects: 100% (44/44), done.\u001b[K\n",
            "remote: Compressing objects: 100% (30/30), done.\u001b[K\n",
            "remote: Total 44 (delta 14), reused 9 (delta 3), pack-reused 0 (from 0)\u001b[K\n",
            "Receiving objects: 100% (44/44), 308.95 KiB | 3.43 MiB/s, done.\n",
            "Resolving deltas: 100% (14/14), done.\n"
          ]
        }
      ]
    },
    {
      "cell_type": "code",
      "source": [
        "%cd Chatbox"
      ],
      "metadata": {
        "colab": {
          "base_uri": "https://localhost:8080/"
        },
        "id": "9BOA62n3S4NV",
        "outputId": "78d5ed5a-2965-472d-fae0-cd88720cb823"
      },
      "execution_count": 4,
      "outputs": [
        {
          "output_type": "stream",
          "name": "stdout",
          "text": [
            "/content/Chatbox\n"
          ]
        }
      ]
    },
    {
      "cell_type": "code",
      "source": [
        "from utils.tokenizer import tokenizer"
      ],
      "metadata": {
        "id": "P1PkIMI2S-Fm"
      },
      "execution_count": 5,
      "outputs": []
    },
    {
      "cell_type": "code",
      "source": [
        "inputs = [\"I\", \"have\", \"a\", \"girl\"]\n",
        "labels = [\"have\", \"a\", \"girl\", \"friend\"]"
      ],
      "metadata": {
        "id": "k03_b6FwTIvt"
      },
      "execution_count": 6,
      "outputs": []
    },
    {
      "cell_type": "code",
      "source": [
        "for i in range(len(inputs)):\n",
        "  current_input = inputs[:i+1]\n",
        "  current_label = labels[i]\n",
        "  print(f\"current input: {current_input} ---- current_label: {current_label}\")"
      ],
      "metadata": {
        "colab": {
          "base_uri": "https://localhost:8080/"
        },
        "id": "ttkzX_ngTe8w",
        "outputId": "05fc7913-3c27-430e-c87f-93e8f7426c5c"
      },
      "execution_count": 7,
      "outputs": [
        {
          "output_type": "stream",
          "name": "stdout",
          "text": [
            "current input: ['I'] ---- current_label: have\n",
            "current input: ['I', 'have'] ---- current_label: a\n",
            "current input: ['I', 'have', 'a'] ---- current_label: girl\n",
            "current input: ['I', 'have', 'a', 'girl'] ---- current_label: friend\n"
          ]
        }
      ]
    },
    {
      "cell_type": "code",
      "source": [
        "with open('./rawdata/data.txt', 'r') as file:\n",
        "  data = file.read()\n",
        "\n",
        "ENCODER = tokenizer(data)"
      ],
      "metadata": {
        "id": "4pqySyNWU8dd"
      },
      "execution_count": 8,
      "outputs": []
    },
    {
      "cell_type": "code",
      "source": [
        "inputs = ENCODER.encode(\"i have a girl\")\n",
        "labels = ENCODER.encode(\"have a girl friend\")\n",
        "print(inputs, labels)"
      ],
      "metadata": {
        "colab": {
          "base_uri": "https://localhost:8080/"
        },
        "id": "-re08GaHUCmx",
        "outputId": "4389830f-1d58-4b3c-9f52-d898a43fc4de"
      },
      "execution_count": 9,
      "outputs": [
        {
          "output_type": "stream",
          "name": "stdout",
          "text": [
            "[1102, 1012, 97, 935] [1012, 97, 935, 906]\n"
          ]
        }
      ]
    },
    {
      "cell_type": "code",
      "source": [
        "for i in inputs:\n",
        "  print(ENCODER.decode([i]))"
      ],
      "metadata": {
        "colab": {
          "base_uri": "https://localhost:8080/"
        },
        "id": "-vtgs22rVGqA",
        "outputId": "2bee4b05-1a92-4783-e43f-041424c2239b"
      },
      "execution_count": 10,
      "outputs": [
        {
          "output_type": "stream",
          "name": "stdout",
          "text": [
            "i\n",
            "have\n",
            "a\n",
            "girl\n"
          ]
        }
      ]
    },
    {
      "cell_type": "code",
      "source": [],
      "metadata": {
        "id": "WHdmK0LHW8Ob"
      },
      "execution_count": 10,
      "outputs": []
    }
  ]
}